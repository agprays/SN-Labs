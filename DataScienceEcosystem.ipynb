{
 "cells": [
  {
   "cell_type": "markdown",
   "id": "f720bbf1-84f9-4c74-bfe3-f0b0ac509cf4",
   "metadata": {},
   "source": [
    "# Data Science Tools and Ecosystem\n"
   ]
  },
  {
   "cell_type": "markdown",
   "id": "e6b6f764-0965-410e-a57d-8a07f9d2ff3e",
   "metadata": {},
   "source": [
    "In this notebook, Data Science Tools and Ecosystem are summarized.\n"
   ]
  },
  {
   "cell_type": "markdown",
   "id": "fadef801-9c74-46ee-9e2e-15cd4af8cb06",
   "metadata": {},
   "source": [
    "**Objectives:**\r\n",
    "- List popular languages for Data Science\r\n",
    "- List commonly used libraries in Data Science\r\n",
    "- Create a table of Data Science tools\r\n",
    "- Provide examples of evaluating arithmetic expressions in Pyhon\r\n"
   ]
  },
  {
   "cell_type": "markdown",
   "id": "129cf890-038a-4082-b539-59f64bd9edf1",
   "metadata": {},
   "source": [
    "Some of the popular languages that Data Scientists use are:\r\n",
    "\r\n",
    "1. Python\r\n",
    "2. R\r\n",
    "3. SQL\r\n",
    "4. Julia\r\n",
    "5.ala\r\n",
    "\n",
    "\r\n"
   ]
  },
  {
   "cell_type": "markdown",
   "id": "437b88fb-520b-4d96-975c-28778f92170a",
   "metadata": {},
   "source": [
    "Some of the commonly used libraries used by Data Scientists include:\r\n",
    "- NumPy\r\n",
    "- Pandas\r\n",
    "- Matplotlib\r\n",
    "- Scikit-learn\r\n",
    "- Tensorlow\r\n",
    "\n"
   ]
  },
  {
   "cell_type": "markdown",
   "id": "7703ec09-eb9c-4e0c-b5d5-dc561123a27b",
   "metadata": {},
   "source": [
    "| Data Science Tools |\r\n",
    "|--------------------|\r\n",
    "| Jupyter Notebook   |\r\n",
    "| RStudio            |\r\n",
    "| Apache Zeppelin   |\r\n"
   ]
  },
  {
   "cell_type": "code",
   "execution_count": 15,
   "id": "b11f5752-52de-4cf1-91b6-6860bba10f5a",
   "metadata": {},
   "outputs": [],
   "source": [
    "### Below are a few examples of evaluating arithmetic expressions in Python."
   ]
  },
  {
   "cell_type": "code",
   "execution_count": 21,
   "id": "7e295ed0-8f07-4f1a-b67f-78cd2177f83a",
   "metadata": {},
   "outputs": [
    {
     "data": {
      "text/plain": [
       "17"
      ]
     },
     "execution_count": 21,
     "metadata": {},
     "output_type": "execute_result"
    }
   ],
   "source": [
    "# Esta es una expresión aritmética simple para multiplicar y luego sumar números enteros\n",
    "(3*4)+5"
   ]
  },
  {
   "cell_type": "code",
   "execution_count": 19,
   "id": "09a57d17-a321-4a4c-9888-7fb5c9e1056b",
   "metadata": {},
   "outputs": [
    {
     "data": {
      "text/plain": [
       "3.3333333333333335"
      ]
     },
     "execution_count": 19,
     "metadata": {},
     "output_type": "execute_result"
    }
   ],
   "source": [
    "# Esto convertirá 200 minutos en horas dividiendo por 60\n",
    "200 / 60"
   ]
  },
  {
   "cell_type": "markdown",
   "id": "5e5c3e10-238c-462d-9db1-bf11d85cba2f",
   "metadata": {},
   "source": [
    "## Author\r",
    "Ana García París\r\n"
   ]
  }
 ],
 "metadata": {
  "kernelspec": {
   "display_name": "Python 3 (ipykernel)",
   "language": "python",
   "name": "python3"
  },
  "language_info": {
   "codemirror_mode": {
    "name": "ipython",
    "version": 3
   },
   "file_extension": ".py",
   "mimetype": "text/x-python",
   "name": "python",
   "nbconvert_exporter": "python",
   "pygments_lexer": "ipython3",
   "version": "3.12.4"
  }
 },
 "nbformat": 4,
 "nbformat_minor": 5
}
